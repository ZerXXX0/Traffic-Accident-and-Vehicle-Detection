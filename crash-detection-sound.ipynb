{
 "cells": [
  {
   "cell_type": "code",
   "execution_count": 1,
   "id": "e0c0c362",
   "metadata": {
    "_cell_guid": "b1076dfc-b9ad-4769-8c92-a6c4dae69d19",
    "_uuid": "8f2839f25d086af736a60e9eeb907d3b93b6e0e5",
    "execution": {
     "iopub.execute_input": "2025-08-06T06:51:45.496079Z",
     "iopub.status.busy": "2025-08-06T06:51:45.495877Z",
     "iopub.status.idle": "2025-08-06T06:52:59.202270Z",
     "shell.execute_reply": "2025-08-06T06:52:59.201474Z"
    },
    "papermill": {
     "duration": 73.71045,
     "end_time": "2025-08-06T06:52:59.203763",
     "exception": false,
     "start_time": "2025-08-06T06:51:45.493313",
     "status": "completed"
    },
    "tags": []
   },
   "outputs": [
    {
     "name": "stdout",
     "output_type": "stream",
     "text": [
      "Requirement already satisfied: torch in /usr/local/lib/python3.11/dist-packages (2.6.0+cu124)\r\n",
      "Requirement already satisfied: torchaudio in /usr/local/lib/python3.11/dist-packages (2.6.0+cu124)\r\n",
      "Requirement already satisfied: librosa in /usr/local/lib/python3.11/dist-packages (0.11.0)\r\n",
      "Requirement already satisfied: soundfile in /usr/local/lib/python3.11/dist-packages (0.13.1)\r\n",
      "Requirement already satisfied: scikit-learn in /usr/local/lib/python3.11/dist-packages (1.2.2)\r\n",
      "Requirement already satisfied: tqdm in /usr/local/lib/python3.11/dist-packages (4.67.1)\r\n",
      "Requirement already satisfied: filelock in /usr/local/lib/python3.11/dist-packages (from torch) (3.18.0)\r\n",
      "Requirement already satisfied: typing-extensions>=4.10.0 in /usr/local/lib/python3.11/dist-packages (from torch) (4.14.0)\r\n",
      "Requirement already satisfied: networkx in /usr/local/lib/python3.11/dist-packages (from torch) (3.5)\r\n",
      "Requirement already satisfied: jinja2 in /usr/local/lib/python3.11/dist-packages (from torch) (3.1.6)\r\n",
      "Requirement already satisfied: fsspec in /usr/local/lib/python3.11/dist-packages (from torch) (2025.5.1)\r\n",
      "Collecting nvidia-cuda-nvrtc-cu12==12.4.127 (from torch)\r\n",
      "  Downloading nvidia_cuda_nvrtc_cu12-12.4.127-py3-none-manylinux2014_x86_64.whl.metadata (1.5 kB)\r\n",
      "Collecting nvidia-cuda-runtime-cu12==12.4.127 (from torch)\r\n",
      "  Downloading nvidia_cuda_runtime_cu12-12.4.127-py3-none-manylinux2014_x86_64.whl.metadata (1.5 kB)\r\n",
      "Collecting nvidia-cuda-cupti-cu12==12.4.127 (from torch)\r\n",
      "  Downloading nvidia_cuda_cupti_cu12-12.4.127-py3-none-manylinux2014_x86_64.whl.metadata (1.6 kB)\r\n",
      "Collecting nvidia-cudnn-cu12==9.1.0.70 (from torch)\r\n",
      "  Downloading nvidia_cudnn_cu12-9.1.0.70-py3-none-manylinux2014_x86_64.whl.metadata (1.6 kB)\r\n",
      "Collecting nvidia-cublas-cu12==12.4.5.8 (from torch)\r\n",
      "  Downloading nvidia_cublas_cu12-12.4.5.8-py3-none-manylinux2014_x86_64.whl.metadata (1.5 kB)\r\n",
      "Collecting nvidia-cufft-cu12==11.2.1.3 (from torch)\r\n",
      "  Downloading nvidia_cufft_cu12-11.2.1.3-py3-none-manylinux2014_x86_64.whl.metadata (1.5 kB)\r\n",
      "Collecting nvidia-curand-cu12==10.3.5.147 (from torch)\r\n",
      "  Downloading nvidia_curand_cu12-10.3.5.147-py3-none-manylinux2014_x86_64.whl.metadata (1.5 kB)\r\n",
      "Collecting nvidia-cusolver-cu12==11.6.1.9 (from torch)\r\n",
      "  Downloading nvidia_cusolver_cu12-11.6.1.9-py3-none-manylinux2014_x86_64.whl.metadata (1.6 kB)\r\n",
      "Collecting nvidia-cusparse-cu12==12.3.1.170 (from torch)\r\n",
      "  Downloading nvidia_cusparse_cu12-12.3.1.170-py3-none-manylinux2014_x86_64.whl.metadata (1.6 kB)\r\n",
      "Requirement already satisfied: nvidia-cusparselt-cu12==0.6.2 in /usr/local/lib/python3.11/dist-packages (from torch) (0.6.2)\r\n",
      "Requirement already satisfied: nvidia-nccl-cu12==2.21.5 in /usr/local/lib/python3.11/dist-packages (from torch) (2.21.5)\r\n",
      "Requirement already satisfied: nvidia-nvtx-cu12==12.4.127 in /usr/local/lib/python3.11/dist-packages (from torch) (12.4.127)\r\n",
      "Collecting nvidia-nvjitlink-cu12==12.4.127 (from torch)\r\n",
      "  Downloading nvidia_nvjitlink_cu12-12.4.127-py3-none-manylinux2014_x86_64.whl.metadata (1.5 kB)\r\n",
      "Requirement already satisfied: triton==3.2.0 in /usr/local/lib/python3.11/dist-packages (from torch) (3.2.0)\r\n",
      "Requirement already satisfied: sympy==1.13.1 in /usr/local/lib/python3.11/dist-packages (from torch) (1.13.1)\r\n",
      "Requirement already satisfied: mpmath<1.4,>=1.1.0 in /usr/local/lib/python3.11/dist-packages (from sympy==1.13.1->torch) (1.3.0)\r\n",
      "Requirement already satisfied: audioread>=2.1.9 in /usr/local/lib/python3.11/dist-packages (from librosa) (3.0.1)\r\n",
      "Requirement already satisfied: numba>=0.51.0 in /usr/local/lib/python3.11/dist-packages (from librosa) (0.60.0)\r\n",
      "Requirement already satisfied: numpy>=1.22.3 in /usr/local/lib/python3.11/dist-packages (from librosa) (1.26.4)\r\n",
      "Requirement already satisfied: scipy>=1.6.0 in /usr/local/lib/python3.11/dist-packages (from librosa) (1.15.3)\r\n",
      "Requirement already satisfied: joblib>=1.0 in /usr/local/lib/python3.11/dist-packages (from librosa) (1.5.1)\r\n",
      "Requirement already satisfied: decorator>=4.3.0 in /usr/local/lib/python3.11/dist-packages (from librosa) (4.4.2)\r\n",
      "Requirement already satisfied: pooch>=1.1 in /usr/local/lib/python3.11/dist-packages (from librosa) (1.8.2)\r\n",
      "Requirement already satisfied: soxr>=0.3.2 in /usr/local/lib/python3.11/dist-packages (from librosa) (0.5.0.post1)\r\n",
      "Requirement already satisfied: lazy_loader>=0.1 in /usr/local/lib/python3.11/dist-packages (from librosa) (0.4)\r\n",
      "Requirement already satisfied: msgpack>=1.0 in /usr/local/lib/python3.11/dist-packages (from librosa) (1.1.1)\r\n",
      "Requirement already satisfied: cffi>=1.0 in /usr/local/lib/python3.11/dist-packages (from soundfile) (1.17.1)\r\n",
      "Requirement already satisfied: threadpoolctl>=2.0.0 in /usr/local/lib/python3.11/dist-packages (from scikit-learn) (3.6.0)\r\n",
      "Requirement already satisfied: pycparser in /usr/local/lib/python3.11/dist-packages (from cffi>=1.0->soundfile) (2.22)\r\n",
      "Requirement already satisfied: packaging in /usr/local/lib/python3.11/dist-packages (from lazy_loader>=0.1->librosa) (25.0)\r\n",
      "Requirement already satisfied: llvmlite<0.44,>=0.43.0dev0 in /usr/local/lib/python3.11/dist-packages (from numba>=0.51.0->librosa) (0.43.0)\r\n",
      "Requirement already satisfied: mkl_fft in /usr/local/lib/python3.11/dist-packages (from numpy>=1.22.3->librosa) (1.3.8)\r\n",
      "Requirement already satisfied: mkl_random in /usr/local/lib/python3.11/dist-packages (from numpy>=1.22.3->librosa) (1.2.4)\r\n",
      "Requirement already satisfied: mkl_umath in /usr/local/lib/python3.11/dist-packages (from numpy>=1.22.3->librosa) (0.1.1)\r\n",
      "Requirement already satisfied: mkl in /usr/local/lib/python3.11/dist-packages (from numpy>=1.22.3->librosa) (2025.2.0)\r\n",
      "Requirement already satisfied: tbb4py in /usr/local/lib/python3.11/dist-packages (from numpy>=1.22.3->librosa) (2022.2.0)\r\n",
      "Requirement already satisfied: mkl-service in /usr/local/lib/python3.11/dist-packages (from numpy>=1.22.3->librosa) (2.4.1)\r\n",
      "Requirement already satisfied: platformdirs>=2.5.0 in /usr/local/lib/python3.11/dist-packages (from pooch>=1.1->librosa) (4.3.8)\r\n",
      "Requirement already satisfied: requests>=2.19.0 in /usr/local/lib/python3.11/dist-packages (from pooch>=1.1->librosa) (2.32.4)\r\n",
      "Requirement already satisfied: MarkupSafe>=2.0 in /usr/local/lib/python3.11/dist-packages (from jinja2->torch) (3.0.2)\r\n",
      "Requirement already satisfied: charset_normalizer<4,>=2 in /usr/local/lib/python3.11/dist-packages (from requests>=2.19.0->pooch>=1.1->librosa) (3.4.2)\r\n",
      "Requirement already satisfied: idna<4,>=2.5 in /usr/local/lib/python3.11/dist-packages (from requests>=2.19.0->pooch>=1.1->librosa) (3.10)\r\n",
      "Requirement already satisfied: urllib3<3,>=1.21.1 in /usr/local/lib/python3.11/dist-packages (from requests>=2.19.0->pooch>=1.1->librosa) (2.5.0)\r\n",
      "Requirement already satisfied: certifi>=2017.4.17 in /usr/local/lib/python3.11/dist-packages (from requests>=2.19.0->pooch>=1.1->librosa) (2025.6.15)\r\n",
      "Requirement already satisfied: intel-openmp<2026,>=2024 in /usr/local/lib/python3.11/dist-packages (from mkl->numpy>=1.22.3->librosa) (2024.2.0)\r\n",
      "Requirement already satisfied: tbb==2022.* in /usr/local/lib/python3.11/dist-packages (from mkl->numpy>=1.22.3->librosa) (2022.2.0)\r\n",
      "Requirement already satisfied: tcmlib==1.* in /usr/local/lib/python3.11/dist-packages (from tbb==2022.*->mkl->numpy>=1.22.3->librosa) (1.4.0)\r\n",
      "Requirement already satisfied: intel-cmplr-lib-rt in /usr/local/lib/python3.11/dist-packages (from mkl_umath->numpy>=1.22.3->librosa) (2024.2.0)\r\n",
      "Requirement already satisfied: intel-cmplr-lib-ur==2024.2.0 in /usr/local/lib/python3.11/dist-packages (from intel-openmp<2026,>=2024->mkl->numpy>=1.22.3->librosa) (2024.2.0)\r\n",
      "Downloading nvidia_cublas_cu12-12.4.5.8-py3-none-manylinux2014_x86_64.whl (363.4 MB)\r\n",
      "\u001b[2K   \u001b[90m━━━━━━━━━━━━━━━━━━━━━━━━━━━━━━━━━━━━━━━━\u001b[0m \u001b[32m363.4/363.4 MB\u001b[0m \u001b[31m4.8 MB/s\u001b[0m eta \u001b[36m0:00:00\u001b[0m\r\n",
      "\u001b[?25hDownloading nvidia_cuda_cupti_cu12-12.4.127-py3-none-manylinux2014_x86_64.whl (13.8 MB)\r\n",
      "\u001b[2K   \u001b[90m━━━━━━━━━━━━━━━━━━━━━━━━━━━━━━━━━━━━━━━━\u001b[0m \u001b[32m13.8/13.8 MB\u001b[0m \u001b[31m89.1 MB/s\u001b[0m eta \u001b[36m0:00:00\u001b[0m\r\n",
      "\u001b[?25hDownloading nvidia_cuda_nvrtc_cu12-12.4.127-py3-none-manylinux2014_x86_64.whl (24.6 MB)\r\n",
      "\u001b[2K   \u001b[90m━━━━━━━━━━━━━━━━━━━━━━━━━━━━━━━━━━━━━━━━\u001b[0m \u001b[32m24.6/24.6 MB\u001b[0m \u001b[31m66.9 MB/s\u001b[0m eta \u001b[36m0:00:00\u001b[0m\r\n",
      "\u001b[?25hDownloading nvidia_cuda_runtime_cu12-12.4.127-py3-none-manylinux2014_x86_64.whl (883 kB)\r\n",
      "\u001b[2K   \u001b[90m━━━━━━━━━━━━━━━━━━━━━━━━━━━━━━━━━━━━━━━━\u001b[0m \u001b[32m883.7/883.7 kB\u001b[0m \u001b[31m49.8 MB/s\u001b[0m eta \u001b[36m0:00:00\u001b[0m\r\n",
      "\u001b[?25hDownloading nvidia_cudnn_cu12-9.1.0.70-py3-none-manylinux2014_x86_64.whl (664.8 MB)\r\n",
      "\u001b[2K   \u001b[90m━━━━━━━━━━━━━━━━━━━━━━━━━━━━━━━━━━━━━━━━\u001b[0m \u001b[32m664.8/664.8 MB\u001b[0m \u001b[31m2.6 MB/s\u001b[0m eta \u001b[36m0:00:00\u001b[0m\r\n",
      "\u001b[?25hDownloading nvidia_cufft_cu12-11.2.1.3-py3-none-manylinux2014_x86_64.whl (211.5 MB)\r\n",
      "\u001b[2K   \u001b[90m━━━━━━━━━━━━━━━━━━━━━━━━━━━━━━━━━━━━━━━━\u001b[0m \u001b[32m211.5/211.5 MB\u001b[0m \u001b[31m7.9 MB/s\u001b[0m eta \u001b[36m0:00:00\u001b[0m\r\n",
      "\u001b[?25hDownloading nvidia_curand_cu12-10.3.5.147-py3-none-manylinux2014_x86_64.whl (56.3 MB)\r\n",
      "\u001b[2K   \u001b[90m━━━━━━━━━━━━━━━━━━━━━━━━━━━━━━━━━━━━━━━━\u001b[0m \u001b[32m56.3/56.3 MB\u001b[0m \u001b[31m31.5 MB/s\u001b[0m eta \u001b[36m0:00:00\u001b[0m\r\n",
      "\u001b[?25hDownloading nvidia_cusolver_cu12-11.6.1.9-py3-none-manylinux2014_x86_64.whl (127.9 MB)\r\n",
      "\u001b[2K   \u001b[90m━━━━━━━━━━━━━━━━━━━━━━━━━━━━━━━━━━━━━━━━\u001b[0m \u001b[32m127.9/127.9 MB\u001b[0m \u001b[31m13.5 MB/s\u001b[0m eta \u001b[36m0:00:00\u001b[0m\r\n",
      "\u001b[?25hDownloading nvidia_cusparse_cu12-12.3.1.170-py3-none-manylinux2014_x86_64.whl (207.5 MB)\r\n",
      "\u001b[2K   \u001b[90m━━━━━━━━━━━━━━━━━━━━━━━━━━━━━━━━━━━━━━━━\u001b[0m \u001b[32m207.5/207.5 MB\u001b[0m \u001b[31m8.3 MB/s\u001b[0m eta \u001b[36m0:00:00\u001b[0m\r\n",
      "\u001b[?25hDownloading nvidia_nvjitlink_cu12-12.4.127-py3-none-manylinux2014_x86_64.whl (21.1 MB)\r\n",
      "\u001b[2K   \u001b[90m━━━━━━━━━━━━━━━━━━━━━━━━━━━━━━━━━━━━━━━━\u001b[0m \u001b[32m21.1/21.1 MB\u001b[0m \u001b[31m73.9 MB/s\u001b[0m eta \u001b[36m0:00:00\u001b[0m\r\n",
      "\u001b[?25hInstalling collected packages: nvidia-nvjitlink-cu12, nvidia-curand-cu12, nvidia-cufft-cu12, nvidia-cuda-runtime-cu12, nvidia-cuda-nvrtc-cu12, nvidia-cuda-cupti-cu12, nvidia-cublas-cu12, nvidia-cusparse-cu12, nvidia-cudnn-cu12, nvidia-cusolver-cu12\r\n",
      "  Attempting uninstall: nvidia-nvjitlink-cu12\r\n",
      "    Found existing installation: nvidia-nvjitlink-cu12 12.5.82\r\n",
      "    Uninstalling nvidia-nvjitlink-cu12-12.5.82:\r\n",
      "      Successfully uninstalled nvidia-nvjitlink-cu12-12.5.82\r\n",
      "  Attempting uninstall: nvidia-curand-cu12\r\n",
      "    Found existing installation: nvidia-curand-cu12 10.3.6.82\r\n",
      "    Uninstalling nvidia-curand-cu12-10.3.6.82:\r\n",
      "      Successfully uninstalled nvidia-curand-cu12-10.3.6.82\r\n",
      "  Attempting uninstall: nvidia-cufft-cu12\r\n",
      "    Found existing installation: nvidia-cufft-cu12 11.2.3.61\r\n",
      "    Uninstalling nvidia-cufft-cu12-11.2.3.61:\r\n",
      "      Successfully uninstalled nvidia-cufft-cu12-11.2.3.61\r\n",
      "  Attempting uninstall: nvidia-cuda-runtime-cu12\r\n",
      "    Found existing installation: nvidia-cuda-runtime-cu12 12.5.82\r\n",
      "    Uninstalling nvidia-cuda-runtime-cu12-12.5.82:\r\n",
      "      Successfully uninstalled nvidia-cuda-runtime-cu12-12.5.82\r\n",
      "  Attempting uninstall: nvidia-cuda-nvrtc-cu12\r\n",
      "    Found existing installation: nvidia-cuda-nvrtc-cu12 12.5.82\r\n",
      "    Uninstalling nvidia-cuda-nvrtc-cu12-12.5.82:\r\n",
      "      Successfully uninstalled nvidia-cuda-nvrtc-cu12-12.5.82\r\n",
      "  Attempting uninstall: nvidia-cuda-cupti-cu12\r\n",
      "    Found existing installation: nvidia-cuda-cupti-cu12 12.5.82\r\n",
      "    Uninstalling nvidia-cuda-cupti-cu12-12.5.82:\r\n",
      "      Successfully uninstalled nvidia-cuda-cupti-cu12-12.5.82\r\n",
      "  Attempting uninstall: nvidia-cublas-cu12\r\n",
      "    Found existing installation: nvidia-cublas-cu12 12.5.3.2\r\n",
      "    Uninstalling nvidia-cublas-cu12-12.5.3.2:\r\n",
      "      Successfully uninstalled nvidia-cublas-cu12-12.5.3.2\r\n",
      "  Attempting uninstall: nvidia-cusparse-cu12\r\n",
      "    Found existing installation: nvidia-cusparse-cu12 12.5.1.3\r\n",
      "    Uninstalling nvidia-cusparse-cu12-12.5.1.3:\r\n",
      "      Successfully uninstalled nvidia-cusparse-cu12-12.5.1.3\r\n",
      "  Attempting uninstall: nvidia-cudnn-cu12\r\n",
      "    Found existing installation: nvidia-cudnn-cu12 9.3.0.75\r\n",
      "    Uninstalling nvidia-cudnn-cu12-9.3.0.75:\r\n",
      "      Successfully uninstalled nvidia-cudnn-cu12-9.3.0.75\r\n",
      "  Attempting uninstall: nvidia-cusolver-cu12\r\n",
      "    Found existing installation: nvidia-cusolver-cu12 11.6.3.83\r\n",
      "    Uninstalling nvidia-cusolver-cu12-11.6.3.83:\r\n",
      "      Successfully uninstalled nvidia-cusolver-cu12-11.6.3.83\r\n",
      "Successfully installed nvidia-cublas-cu12-12.4.5.8 nvidia-cuda-cupti-cu12-12.4.127 nvidia-cuda-nvrtc-cu12-12.4.127 nvidia-cuda-runtime-cu12-12.4.127 nvidia-cudnn-cu12-9.1.0.70 nvidia-cufft-cu12-11.2.1.3 nvidia-curand-cu12-10.3.5.147 nvidia-cusolver-cu12-11.6.1.9 nvidia-cusparse-cu12-12.3.1.170 nvidia-nvjitlink-cu12-12.4.127\r\n",
      "Collecting panns-inference\r\n",
      "  Downloading panns_inference-0.1.1-py3-none-any.whl.metadata (2.4 kB)\r\n",
      "Requirement already satisfied: matplotlib in /usr/local/lib/python3.11/dist-packages (from panns-inference) (3.7.2)\r\n",
      "Requirement already satisfied: librosa in /usr/local/lib/python3.11/dist-packages (from panns-inference) (0.11.0)\r\n",
      "Collecting torchlibrosa (from panns-inference)\r\n",
      "  Downloading torchlibrosa-0.1.0-py3-none-any.whl.metadata (3.5 kB)\r\n",
      "Requirement already satisfied: audioread>=2.1.9 in /usr/local/lib/python3.11/dist-packages (from librosa->panns-inference) (3.0.1)\r\n",
      "Requirement already satisfied: numba>=0.51.0 in /usr/local/lib/python3.11/dist-packages (from librosa->panns-inference) (0.60.0)\r\n",
      "Requirement already satisfied: numpy>=1.22.3 in /usr/local/lib/python3.11/dist-packages (from librosa->panns-inference) (1.26.4)\r\n",
      "Requirement already satisfied: scipy>=1.6.0 in /usr/local/lib/python3.11/dist-packages (from librosa->panns-inference) (1.15.3)\r\n",
      "Requirement already satisfied: scikit-learn>=1.1.0 in /usr/local/lib/python3.11/dist-packages (from librosa->panns-inference) (1.2.2)\r\n",
      "Requirement already satisfied: joblib>=1.0 in /usr/local/lib/python3.11/dist-packages (from librosa->panns-inference) (1.5.1)\r\n",
      "Requirement already satisfied: decorator>=4.3.0 in /usr/local/lib/python3.11/dist-packages (from librosa->panns-inference) (4.4.2)\r\n",
      "Requirement already satisfied: soundfile>=0.12.1 in /usr/local/lib/python3.11/dist-packages (from librosa->panns-inference) (0.13.1)\r\n",
      "Requirement already satisfied: pooch>=1.1 in /usr/local/lib/python3.11/dist-packages (from librosa->panns-inference) (1.8.2)\r\n",
      "Requirement already satisfied: soxr>=0.3.2 in /usr/local/lib/python3.11/dist-packages (from librosa->panns-inference) (0.5.0.post1)\r\n",
      "Requirement already satisfied: typing_extensions>=4.1.1 in /usr/local/lib/python3.11/dist-packages (from librosa->panns-inference) (4.14.0)\r\n",
      "Requirement already satisfied: lazy_loader>=0.1 in /usr/local/lib/python3.11/dist-packages (from librosa->panns-inference) (0.4)\r\n",
      "Requirement already satisfied: msgpack>=1.0 in /usr/local/lib/python3.11/dist-packages (from librosa->panns-inference) (1.1.1)\r\n",
      "Requirement already satisfied: contourpy>=1.0.1 in /usr/local/lib/python3.11/dist-packages (from matplotlib->panns-inference) (1.3.2)\r\n",
      "Requirement already satisfied: cycler>=0.10 in /usr/local/lib/python3.11/dist-packages (from matplotlib->panns-inference) (0.12.1)\r\n",
      "Requirement already satisfied: fonttools>=4.22.0 in /usr/local/lib/python3.11/dist-packages (from matplotlib->panns-inference) (4.58.4)\r\n",
      "Requirement already satisfied: kiwisolver>=1.0.1 in /usr/local/lib/python3.11/dist-packages (from matplotlib->panns-inference) (1.4.8)\r\n",
      "Requirement already satisfied: packaging>=20.0 in /usr/local/lib/python3.11/dist-packages (from matplotlib->panns-inference) (25.0)\r\n",
      "Requirement already satisfied: pillow>=6.2.0 in /usr/local/lib/python3.11/dist-packages (from matplotlib->panns-inference) (11.2.1)\r\n",
      "Requirement already satisfied: pyparsing<3.1,>=2.3.1 in /usr/local/lib/python3.11/dist-packages (from matplotlib->panns-inference) (3.0.9)\r\n",
      "Requirement already satisfied: python-dateutil>=2.7 in /usr/local/lib/python3.11/dist-packages (from matplotlib->panns-inference) (2.9.0.post0)\r\n",
      "Requirement already satisfied: llvmlite<0.44,>=0.43.0dev0 in /usr/local/lib/python3.11/dist-packages (from numba>=0.51.0->librosa->panns-inference) (0.43.0)\r\n",
      "Requirement already satisfied: mkl_fft in /usr/local/lib/python3.11/dist-packages (from numpy>=1.22.3->librosa->panns-inference) (1.3.8)\r\n",
      "Requirement already satisfied: mkl_random in /usr/local/lib/python3.11/dist-packages (from numpy>=1.22.3->librosa->panns-inference) (1.2.4)\r\n",
      "Requirement already satisfied: mkl_umath in /usr/local/lib/python3.11/dist-packages (from numpy>=1.22.3->librosa->panns-inference) (0.1.1)\r\n",
      "Requirement already satisfied: mkl in /usr/local/lib/python3.11/dist-packages (from numpy>=1.22.3->librosa->panns-inference) (2025.2.0)\r\n",
      "Requirement already satisfied: tbb4py in /usr/local/lib/python3.11/dist-packages (from numpy>=1.22.3->librosa->panns-inference) (2022.2.0)\r\n",
      "Requirement already satisfied: mkl-service in /usr/local/lib/python3.11/dist-packages (from numpy>=1.22.3->librosa->panns-inference) (2.4.1)\r\n",
      "Requirement already satisfied: platformdirs>=2.5.0 in /usr/local/lib/python3.11/dist-packages (from pooch>=1.1->librosa->panns-inference) (4.3.8)\r\n",
      "Requirement already satisfied: requests>=2.19.0 in /usr/local/lib/python3.11/dist-packages (from pooch>=1.1->librosa->panns-inference) (2.32.4)\r\n",
      "Requirement already satisfied: six>=1.5 in /usr/local/lib/python3.11/dist-packages (from python-dateutil>=2.7->matplotlib->panns-inference) (1.17.0)\r\n",
      "Requirement already satisfied: threadpoolctl>=2.0.0 in /usr/local/lib/python3.11/dist-packages (from scikit-learn>=1.1.0->librosa->panns-inference) (3.6.0)\r\n",
      "Requirement already satisfied: cffi>=1.0 in /usr/local/lib/python3.11/dist-packages (from soundfile>=0.12.1->librosa->panns-inference) (1.17.1)\r\n",
      "Requirement already satisfied: pycparser in /usr/local/lib/python3.11/dist-packages (from cffi>=1.0->soundfile>=0.12.1->librosa->panns-inference) (2.22)\r\n",
      "Requirement already satisfied: charset_normalizer<4,>=2 in /usr/local/lib/python3.11/dist-packages (from requests>=2.19.0->pooch>=1.1->librosa->panns-inference) (3.4.2)\r\n",
      "Requirement already satisfied: idna<4,>=2.5 in /usr/local/lib/python3.11/dist-packages (from requests>=2.19.0->pooch>=1.1->librosa->panns-inference) (3.10)\r\n",
      "Requirement already satisfied: urllib3<3,>=1.21.1 in /usr/local/lib/python3.11/dist-packages (from requests>=2.19.0->pooch>=1.1->librosa->panns-inference) (2.5.0)\r\n",
      "Requirement already satisfied: certifi>=2017.4.17 in /usr/local/lib/python3.11/dist-packages (from requests>=2.19.0->pooch>=1.1->librosa->panns-inference) (2025.6.15)\r\n",
      "Requirement already satisfied: intel-openmp<2026,>=2024 in /usr/local/lib/python3.11/dist-packages (from mkl->numpy>=1.22.3->librosa->panns-inference) (2024.2.0)\r\n",
      "Requirement already satisfied: tbb==2022.* in /usr/local/lib/python3.11/dist-packages (from mkl->numpy>=1.22.3->librosa->panns-inference) (2022.2.0)\r\n",
      "Requirement already satisfied: tcmlib==1.* in /usr/local/lib/python3.11/dist-packages (from tbb==2022.*->mkl->numpy>=1.22.3->librosa->panns-inference) (1.4.0)\r\n",
      "Requirement already satisfied: intel-cmplr-lib-rt in /usr/local/lib/python3.11/dist-packages (from mkl_umath->numpy>=1.22.3->librosa->panns-inference) (2024.2.0)\r\n",
      "Requirement already satisfied: intel-cmplr-lib-ur==2024.2.0 in /usr/local/lib/python3.11/dist-packages (from intel-openmp<2026,>=2024->mkl->numpy>=1.22.3->librosa->panns-inference) (2024.2.0)\r\n",
      "Downloading panns_inference-0.1.1-py3-none-any.whl (8.3 kB)\r\n",
      "Downloading torchlibrosa-0.1.0-py3-none-any.whl (11 kB)\r\n",
      "Installing collected packages: torchlibrosa, panns-inference\r\n",
      "Successfully installed panns-inference-0.1.1 torchlibrosa-0.1.0\r\n"
     ]
    }
   ],
   "source": [
    "!pip install torch torchaudio librosa soundfile scikit-learn tqdm\n",
    "!pip install panns-inference"
   ]
  },
  {
   "cell_type": "code",
   "execution_count": 2,
   "id": "218aca34",
   "metadata": {
    "execution": {
     "iopub.execute_input": "2025-08-06T06:52:59.240986Z",
     "iopub.status.busy": "2025-08-06T06:52:59.240414Z",
     "iopub.status.idle": "2025-08-06T06:55:23.597632Z",
     "shell.execute_reply": "2025-08-06T06:55:23.596928Z"
    },
    "papermill": {
     "duration": 144.377367,
     "end_time": "2025-08-06T06:55:23.598958",
     "exception": false,
     "start_time": "2025-08-06T06:52:59.221591",
     "status": "completed"
    },
    "tags": []
   },
   "outputs": [
    {
     "name": "stdout",
     "output_type": "stream",
     "text": [
      "--2025-08-06 06:52:59--  https://zenodo.org/record/3987831/files/Cnn14_mAP%3D0.431.pth?download=1\r\n",
      "Resolving zenodo.org (zenodo.org)... 188.185.48.194, 188.185.43.25, 188.185.45.92, ...\r\n",
      "Connecting to zenodo.org (zenodo.org)|188.185.48.194|:443... connected.\r\n",
      "HTTP request sent, awaiting response... 301 MOVED PERMANENTLY\r\n",
      "Location: /records/3987831/files/Cnn14_mAP=0.431.pth [following]\r\n",
      "--2025-08-06 06:52:59--  https://zenodo.org/records/3987831/files/Cnn14_mAP=0.431.pth\r\n",
      "Reusing existing connection to zenodo.org:443.\r\n",
      "HTTP request sent, awaiting response... 200 OK\r\n",
      "Length: 327428481 (312M) [application/octet-stream]\r\n",
      "Saving to: ‘Cnn14_mAP=0.431.pth’\r\n",
      "\r\n",
      "Cnn14_mAP=0.431.pth 100%[===================>] 312.26M  27.4MB/s    in 2m 23s  \r\n",
      "\r\n",
      "2025-08-06 06:55:23 (2.18 MB/s) - ‘Cnn14_mAP=0.431.pth’ saved [327428481/327428481]\r\n",
      "\r\n"
     ]
    }
   ],
   "source": [
    "!wget -O Cnn14_mAP=0.431.pth \"https://zenodo.org/record/3987831/files/Cnn14_mAP%3D0.431.pth?download=1\""
   ]
  },
  {
   "cell_type": "code",
   "execution_count": 3,
   "id": "d8055f3e",
   "metadata": {
    "execution": {
     "iopub.execute_input": "2025-08-06T06:55:23.727868Z",
     "iopub.status.busy": "2025-08-06T06:55:23.727533Z",
     "iopub.status.idle": "2025-08-06T07:30:55.733591Z",
     "shell.execute_reply": "2025-08-06T07:30:55.732641Z"
    },
    "papermill": {
     "duration": 2132.048941,
     "end_time": "2025-08-06T07:30:55.734908",
     "exception": false,
     "start_time": "2025-08-06T06:55:23.685967",
     "status": "completed"
    },
    "tags": []
   },
   "outputs": [
    {
     "name": "stdout",
     "output_type": "stream",
     "text": [
      "\n",
      "=== CV Fold: train on ['B', 'C', 'D'], validate on A ===\n",
      "[Info] Loaded 600 examples from folds ['B', 'C', 'D'].\n",
      "[Info] Loaded 200 examples from folds ['A'].\n"
     ]
    },
    {
     "name": "stderr",
     "output_type": "stream",
     "text": [
      "                                                         \r"
     ]
    },
    {
     "name": "stdout",
     "output_type": "stream",
     "text": [
      "[Fold A] Epoch 1/30 train_f1=0.3624 val_f1=0.3333\n"
     ]
    },
    {
     "name": "stderr",
     "output_type": "stream",
     "text": [
      "                                                         \r"
     ]
    },
    {
     "name": "stdout",
     "output_type": "stream",
     "text": [
      "[Fold A] Epoch 2/30 train_f1=0.3333 val_f1=0.3333\n"
     ]
    },
    {
     "name": "stderr",
     "output_type": "stream",
     "text": [
      "                                                         \r"
     ]
    },
    {
     "name": "stdout",
     "output_type": "stream",
     "text": [
      "[Fold A] Epoch 3/30 train_f1=0.3656 val_f1=0.6590\n"
     ]
    },
    {
     "name": "stderr",
     "output_type": "stream",
     "text": [
      "                                                         \r"
     ]
    },
    {
     "name": "stdout",
     "output_type": "stream",
     "text": [
      "[Fold A] Epoch 4/30 train_f1=0.7034 val_f1=0.7458\n"
     ]
    },
    {
     "name": "stderr",
     "output_type": "stream",
     "text": [
      "                                                         \r"
     ]
    },
    {
     "name": "stdout",
     "output_type": "stream",
     "text": [
      "[Fold A] Epoch 5/30 train_f1=0.7770 val_f1=0.8473\n"
     ]
    },
    {
     "name": "stderr",
     "output_type": "stream",
     "text": [
      "                                                         \r"
     ]
    },
    {
     "name": "stdout",
     "output_type": "stream",
     "text": [
      "[Fold A] Epoch 6/30 train_f1=0.8597 val_f1=0.8097\n"
     ]
    },
    {
     "name": "stderr",
     "output_type": "stream",
     "text": [
      "                                                         \r"
     ]
    },
    {
     "name": "stdout",
     "output_type": "stream",
     "text": [
      "[Fold A] Epoch 7/30 train_f1=0.8994 val_f1=0.9097\n"
     ]
    },
    {
     "name": "stderr",
     "output_type": "stream",
     "text": [
      "                                                         \r"
     ]
    },
    {
     "name": "stdout",
     "output_type": "stream",
     "text": [
      "[Fold A] Epoch 8/30 train_f1=0.9293 val_f1=0.9552\n"
     ]
    },
    {
     "name": "stderr",
     "output_type": "stream",
     "text": [
      "                                                         \r"
     ]
    },
    {
     "name": "stdout",
     "output_type": "stream",
     "text": [
      "[Fold A] Epoch 9/30 train_f1=0.9464 val_f1=0.8907\n"
     ]
    },
    {
     "name": "stderr",
     "output_type": "stream",
     "text": [
      "                                                         \r"
     ]
    },
    {
     "name": "stdout",
     "output_type": "stream",
     "text": [
      "[Fold A] Epoch 10/30 train_f1=0.9289 val_f1=0.9642\n"
     ]
    },
    {
     "name": "stderr",
     "output_type": "stream",
     "text": [
      "                                                         \r"
     ]
    },
    {
     "name": "stdout",
     "output_type": "stream",
     "text": [
      "[Fold A] Epoch 11/30 train_f1=0.9548 val_f1=0.9694\n"
     ]
    },
    {
     "name": "stderr",
     "output_type": "stream",
     "text": [
      "                                                         \r"
     ]
    },
    {
     "name": "stdout",
     "output_type": "stream",
     "text": [
      "[Fold A] Epoch 12/30 train_f1=0.9633 val_f1=0.9899\n"
     ]
    },
    {
     "name": "stderr",
     "output_type": "stream",
     "text": [
      "                                                         \r"
     ]
    },
    {
     "name": "stdout",
     "output_type": "stream",
     "text": [
      "[Fold A] Epoch 13/30 train_f1=0.9700 val_f1=0.9277\n"
     ]
    },
    {
     "name": "stderr",
     "output_type": "stream",
     "text": [
      "                                                         \r"
     ]
    },
    {
     "name": "stdout",
     "output_type": "stream",
     "text": [
      "[Fold A] Epoch 14/30 train_f1=0.9650 val_f1=0.9317\n"
     ]
    },
    {
     "name": "stderr",
     "output_type": "stream",
     "text": [
      "                                                         \r"
     ]
    },
    {
     "name": "stdout",
     "output_type": "stream",
     "text": [
      "[Fold A] Epoch 15/30 train_f1=0.9716 val_f1=0.9272\n"
     ]
    },
    {
     "name": "stderr",
     "output_type": "stream",
     "text": [
      "                                                         \r"
     ]
    },
    {
     "name": "stdout",
     "output_type": "stream",
     "text": [
      "[Fold A] Epoch 16/30 train_f1=0.9717 val_f1=0.9430\n"
     ]
    },
    {
     "name": "stderr",
     "output_type": "stream",
     "text": [
      "                                                         \r"
     ]
    },
    {
     "name": "stdout",
     "output_type": "stream",
     "text": [
      "[Fold A] Epoch 17/30 train_f1=0.9733 val_f1=0.9504\n"
     ]
    },
    {
     "name": "stderr",
     "output_type": "stream",
     "text": [
      "                                                         \r"
     ]
    },
    {
     "name": "stdout",
     "output_type": "stream",
     "text": [
      "[Fold A] Epoch 18/30 train_f1=0.9750 val_f1=0.9430\n"
     ]
    },
    {
     "name": "stderr",
     "output_type": "stream",
     "text": [
      "                                                         \r"
     ]
    },
    {
     "name": "stdout",
     "output_type": "stream",
     "text": [
      "[Fold A] Epoch 19/30 train_f1=0.9866 val_f1=0.9541\n"
     ]
    },
    {
     "name": "stderr",
     "output_type": "stream",
     "text": [
      "                                                         \r"
     ]
    },
    {
     "name": "stdout",
     "output_type": "stream",
     "text": [
      "[Fold A] Epoch 20/30 train_f1=0.9800 val_f1=0.9798\n"
     ]
    },
    {
     "name": "stderr",
     "output_type": "stream",
     "text": [
      "                                                         \r"
     ]
    },
    {
     "name": "stdout",
     "output_type": "stream",
     "text": [
      "[Fold A] Epoch 21/30 train_f1=0.9800 val_f1=0.9144\n"
     ]
    },
    {
     "name": "stderr",
     "output_type": "stream",
     "text": [
      "                                                         \r"
     ]
    },
    {
     "name": "stdout",
     "output_type": "stream",
     "text": [
      "[Fold A] Epoch 22/30 train_f1=0.9800 val_f1=0.9372\n"
     ]
    },
    {
     "name": "stderr",
     "output_type": "stream",
     "text": [
      "                                                         \r"
     ]
    },
    {
     "name": "stdout",
     "output_type": "stream",
     "text": [
      "[Fold A] Epoch 23/30 train_f1=0.9850 val_f1=0.9086\n"
     ]
    },
    {
     "name": "stderr",
     "output_type": "stream",
     "text": [
      "                                                         \r"
     ]
    },
    {
     "name": "stdout",
     "output_type": "stream",
     "text": [
      "[Fold A] Epoch 24/30 train_f1=0.9866 val_f1=0.9430\n"
     ]
    },
    {
     "name": "stderr",
     "output_type": "stream",
     "text": [
      "                                                         \r"
     ]
    },
    {
     "name": "stdout",
     "output_type": "stream",
     "text": [
      "[Fold A] Epoch 25/30 train_f1=0.9883 val_f1=0.9484\n"
     ]
    },
    {
     "name": "stderr",
     "output_type": "stream",
     "text": [
      "                                                         \r"
     ]
    },
    {
     "name": "stdout",
     "output_type": "stream",
     "text": [
      "[Fold A] Epoch 26/30 train_f1=0.9850 val_f1=0.9327\n"
     ]
    },
    {
     "name": "stderr",
     "output_type": "stream",
     "text": [
      "                                                         \r"
     ]
    },
    {
     "name": "stdout",
     "output_type": "stream",
     "text": [
      "[Fold A] Epoch 27/30 train_f1=0.9833 val_f1=0.9430\n"
     ]
    },
    {
     "name": "stderr",
     "output_type": "stream",
     "text": [
      "                                                         \r"
     ]
    },
    {
     "name": "stdout",
     "output_type": "stream",
     "text": [
      "[Fold A] Epoch 28/30 train_f1=0.9833 val_f1=0.9541\n"
     ]
    },
    {
     "name": "stderr",
     "output_type": "stream",
     "text": [
      "                                                         \r"
     ]
    },
    {
     "name": "stdout",
     "output_type": "stream",
     "text": [
      "[Fold A] Epoch 29/30 train_f1=0.9850 val_f1=0.9537\n"
     ]
    },
    {
     "name": "stderr",
     "output_type": "stream",
     "text": [
      "                                                         \r"
     ]
    },
    {
     "name": "stdout",
     "output_type": "stream",
     "text": [
      "[Fold A] Epoch 30/30 train_f1=0.9800 val_f1=0.9430\n",
      "Confusion matrix for fold A:\n",
      "[[ 50   0   0]\n",
      " [  0  39  11]\n",
      " [  0   0 100]]\n",
      "Classification report:\n",
      "               precision    recall  f1-score   support\n",
      "\n",
      "           0       1.00      1.00      1.00        50\n",
      "           1       1.00      0.78      0.88        50\n",
      "           2       0.90      1.00      0.95       100\n",
      "\n",
      "    accuracy                           0.94       200\n",
      "   macro avg       0.97      0.93      0.94       200\n",
      "weighted avg       0.95      0.94      0.94       200\n",
      "\n",
      "\n",
      "=== CV Fold: train on ['A', 'C', 'D'], validate on B ===\n",
      "[Info] Loaded 600 examples from folds ['A', 'C', 'D'].\n",
      "[Info] Loaded 200 examples from folds ['B'].\n"
     ]
    },
    {
     "name": "stderr",
     "output_type": "stream",
     "text": [
      "                                                         \r"
     ]
    },
    {
     "name": "stdout",
     "output_type": "stream",
     "text": [
      "[Fold B] Epoch 1/30 train_f1=0.3584 val_f1=0.4663\n"
     ]
    },
    {
     "name": "stderr",
     "output_type": "stream",
     "text": [
      "                                                         \r"
     ]
    },
    {
     "name": "stdout",
     "output_type": "stream",
     "text": [
      "[Fold B] Epoch 2/30 train_f1=0.5459 val_f1=0.6366\n"
     ]
    },
    {
     "name": "stderr",
     "output_type": "stream",
     "text": [
      "                                                         \r"
     ]
    },
    {
     "name": "stdout",
     "output_type": "stream",
     "text": [
      "[Fold B] Epoch 3/30 train_f1=0.7040 val_f1=0.8455\n"
     ]
    },
    {
     "name": "stderr",
     "output_type": "stream",
     "text": [
      "                                                         \r"
     ]
    },
    {
     "name": "stdout",
     "output_type": "stream",
     "text": [
      "[Fold B] Epoch 4/30 train_f1=0.8456 val_f1=0.8775\n"
     ]
    },
    {
     "name": "stderr",
     "output_type": "stream",
     "text": [
      "                                                         \r"
     ]
    },
    {
     "name": "stdout",
     "output_type": "stream",
     "text": [
      "[Fold B] Epoch 5/30 train_f1=0.9006 val_f1=0.9093\n"
     ]
    },
    {
     "name": "stderr",
     "output_type": "stream",
     "text": [
      "                                                         \r"
     ]
    },
    {
     "name": "stdout",
     "output_type": "stream",
     "text": [
      "[Fold B] Epoch 6/30 train_f1=0.9196 val_f1=0.9648\n"
     ]
    },
    {
     "name": "stderr",
     "output_type": "stream",
     "text": [
      "                                                         \r"
     ]
    },
    {
     "name": "stdout",
     "output_type": "stream",
     "text": [
      "[Fold B] Epoch 7/30 train_f1=0.9155 val_f1=0.9342\n"
     ]
    },
    {
     "name": "stderr",
     "output_type": "stream",
     "text": [
      "                                                         \r"
     ]
    },
    {
     "name": "stdout",
     "output_type": "stream",
     "text": [
      "[Fold B] Epoch 8/30 train_f1=0.9517 val_f1=0.9382\n"
     ]
    },
    {
     "name": "stderr",
     "output_type": "stream",
     "text": [
      "                                                         \r"
     ]
    },
    {
     "name": "stdout",
     "output_type": "stream",
     "text": [
      "[Fold B] Epoch 9/30 train_f1=0.9447 val_f1=0.9287\n"
     ]
    },
    {
     "name": "stderr",
     "output_type": "stream",
     "text": [
      "                                                         \r"
     ]
    },
    {
     "name": "stdout",
     "output_type": "stream",
     "text": [
      "[Fold B] Epoch 10/30 train_f1=0.9683 val_f1=0.9393\n"
     ]
    },
    {
     "name": "stderr",
     "output_type": "stream",
     "text": [
      "                                                         \r"
     ]
    },
    {
     "name": "stdout",
     "output_type": "stream",
     "text": [
      "[Fold B] Epoch 11/30 train_f1=0.9768 val_f1=0.9646\n"
     ]
    },
    {
     "name": "stderr",
     "output_type": "stream",
     "text": [
      "                                                         \r"
     ]
    },
    {
     "name": "stdout",
     "output_type": "stream",
     "text": [
      "[Fold B] Epoch 12/30 train_f1=0.9750 val_f1=0.9649\n"
     ]
    },
    {
     "name": "stderr",
     "output_type": "stream",
     "text": [
      "                                                         \r"
     ]
    },
    {
     "name": "stdout",
     "output_type": "stream",
     "text": [
      "[Fold B] Epoch 13/30 train_f1=0.9817 val_f1=0.9649\n"
     ]
    },
    {
     "name": "stderr",
     "output_type": "stream",
     "text": [
      "                                                         \r"
     ]
    },
    {
     "name": "stdout",
     "output_type": "stream",
     "text": [
      "[Fold B] Epoch 14/30 train_f1=0.9734 val_f1=0.9494\n"
     ]
    },
    {
     "name": "stderr",
     "output_type": "stream",
     "text": [
      "                                                         \r"
     ]
    },
    {
     "name": "stdout",
     "output_type": "stream",
     "text": [
      "[Fold B] Epoch 15/30 train_f1=0.9715 val_f1=0.9649\n"
     ]
    },
    {
     "name": "stderr",
     "output_type": "stream",
     "text": [
      "                                                         \r"
     ]
    },
    {
     "name": "stdout",
     "output_type": "stream",
     "text": [
      "[Fold B] Epoch 16/30 train_f1=0.9700 val_f1=0.9649\n"
     ]
    },
    {
     "name": "stderr",
     "output_type": "stream",
     "text": [
      "                                                         \r"
     ]
    },
    {
     "name": "stdout",
     "output_type": "stream",
     "text": [
      "[Fold B] Epoch 17/30 train_f1=0.9716 val_f1=0.9284\n"
     ]
    },
    {
     "name": "stderr",
     "output_type": "stream",
     "text": [
      "                                                         \r"
     ]
    },
    {
     "name": "stdout",
     "output_type": "stream",
     "text": [
      "[Fold B] Epoch 18/30 train_f1=0.9816 val_f1=0.9698\n"
     ]
    },
    {
     "name": "stderr",
     "output_type": "stream",
     "text": [
      "                                                         \r"
     ]
    },
    {
     "name": "stdout",
     "output_type": "stream",
     "text": [
      "[Fold B] Epoch 19/30 train_f1=0.9799 val_f1=0.9649\n"
     ]
    },
    {
     "name": "stderr",
     "output_type": "stream",
     "text": [
      "                                                         \r"
     ]
    },
    {
     "name": "stdout",
     "output_type": "stream",
     "text": [
      "[Fold B] Epoch 20/30 train_f1=0.9933 val_f1=0.9700\n"
     ]
    },
    {
     "name": "stderr",
     "output_type": "stream",
     "text": [
      "                                                         \r"
     ]
    },
    {
     "name": "stdout",
     "output_type": "stream",
     "text": [
      "[Fold B] Epoch 21/30 train_f1=0.9866 val_f1=0.9801\n"
     ]
    },
    {
     "name": "stderr",
     "output_type": "stream",
     "text": [
      "                                                         \r"
     ]
    },
    {
     "name": "stdout",
     "output_type": "stream",
     "text": [
      "[Fold B] Epoch 22/30 train_f1=0.9766 val_f1=0.9698\n"
     ]
    },
    {
     "name": "stderr",
     "output_type": "stream",
     "text": [
      "                                                         \r"
     ]
    },
    {
     "name": "stdout",
     "output_type": "stream",
     "text": [
      "[Fold B] Epoch 23/30 train_f1=0.9867 val_f1=0.9698\n"
     ]
    },
    {
     "name": "stderr",
     "output_type": "stream",
     "text": [
      "                                                         \r"
     ]
    },
    {
     "name": "stdout",
     "output_type": "stream",
     "text": [
      "[Fold B] Epoch 24/30 train_f1=0.9850 val_f1=0.9597\n"
     ]
    },
    {
     "name": "stderr",
     "output_type": "stream",
     "text": [
      "                                                         \r"
     ]
    },
    {
     "name": "stdout",
     "output_type": "stream",
     "text": [
      "[Fold B] Epoch 25/30 train_f1=0.9766 val_f1=0.9546\n"
     ]
    },
    {
     "name": "stderr",
     "output_type": "stream",
     "text": [
      "                                                         \r"
     ]
    },
    {
     "name": "stdout",
     "output_type": "stream",
     "text": [
      "[Fold B] Epoch 26/30 train_f1=0.9883 val_f1=0.9698\n"
     ]
    },
    {
     "name": "stderr",
     "output_type": "stream",
     "text": [
      "                                                         \r"
     ]
    },
    {
     "name": "stdout",
     "output_type": "stream",
     "text": [
      "[Fold B] Epoch 27/30 train_f1=0.9917 val_f1=0.9649\n"
     ]
    },
    {
     "name": "stderr",
     "output_type": "stream",
     "text": [
      "                                                         \r"
     ]
    },
    {
     "name": "stdout",
     "output_type": "stream",
     "text": [
      "[Fold B] Epoch 28/30 train_f1=0.9850 val_f1=0.9496\n"
     ]
    },
    {
     "name": "stderr",
     "output_type": "stream",
     "text": [
      "                                                         \r"
     ]
    },
    {
     "name": "stdout",
     "output_type": "stream",
     "text": [
      "[Fold B] Epoch 29/30 train_f1=0.9967 val_f1=0.9851\n"
     ]
    },
    {
     "name": "stderr",
     "output_type": "stream",
     "text": [
      "                                                         \r"
     ]
    },
    {
     "name": "stdout",
     "output_type": "stream",
     "text": [
      "[Fold B] Epoch 30/30 train_f1=0.9917 val_f1=0.9598\n",
      "Confusion matrix for fold B:\n",
      "[[50  0  0]\n",
      " [ 0 46  4]\n",
      " [ 3  1 96]]\n",
      "Classification report:\n",
      "               precision    recall  f1-score   support\n",
      "\n",
      "           0       0.94      1.00      0.97        50\n",
      "           1       0.98      0.92      0.95        50\n",
      "           2       0.96      0.96      0.96       100\n",
      "\n",
      "    accuracy                           0.96       200\n",
      "   macro avg       0.96      0.96      0.96       200\n",
      "weighted avg       0.96      0.96      0.96       200\n",
      "\n",
      "\n",
      "=== CV Fold: train on ['A', 'B', 'D'], validate on C ===\n",
      "[Info] Loaded 600 examples from folds ['A', 'B', 'D'].\n",
      "[Info] Loaded 200 examples from folds ['C'].\n"
     ]
    },
    {
     "name": "stderr",
     "output_type": "stream",
     "text": [
      "                                                         \r"
     ]
    },
    {
     "name": "stdout",
     "output_type": "stream",
     "text": [
      "[Fold C] Epoch 1/30 train_f1=0.3441 val_f1=0.5590\n"
     ]
    },
    {
     "name": "stderr",
     "output_type": "stream",
     "text": [
      "                                                         \r"
     ]
    },
    {
     "name": "stdout",
     "output_type": "stream",
     "text": [
      "[Fold C] Epoch 2/30 train_f1=0.5992 val_f1=0.7044\n"
     ]
    },
    {
     "name": "stderr",
     "output_type": "stream",
     "text": [
      "                                                         \r"
     ]
    },
    {
     "name": "stdout",
     "output_type": "stream",
     "text": [
      "[Fold C] Epoch 3/30 train_f1=0.8788 val_f1=0.8613\n"
     ]
    },
    {
     "name": "stderr",
     "output_type": "stream",
     "text": [
      "                                                         \r"
     ]
    },
    {
     "name": "stdout",
     "output_type": "stream",
     "text": [
      "[Fold C] Epoch 4/30 train_f1=0.9327 val_f1=0.9069\n"
     ]
    },
    {
     "name": "stderr",
     "output_type": "stream",
     "text": [
      "                                                         \r"
     ]
    },
    {
     "name": "stdout",
     "output_type": "stream",
     "text": [
      "[Fold C] Epoch 5/30 train_f1=0.9715 val_f1=0.9550\n"
     ]
    },
    {
     "name": "stderr",
     "output_type": "stream",
     "text": [
      "                                                         \r"
     ]
    },
    {
     "name": "stdout",
     "output_type": "stream",
     "text": [
      "[Fold C] Epoch 6/30 train_f1=0.9800 val_f1=0.9599\n"
     ]
    },
    {
     "name": "stderr",
     "output_type": "stream",
     "text": [
      "                                                         \r"
     ]
    },
    {
     "name": "stdout",
     "output_type": "stream",
     "text": [
      "[Fold C] Epoch 7/30 train_f1=0.9750 val_f1=0.9294\n"
     ]
    },
    {
     "name": "stderr",
     "output_type": "stream",
     "text": [
      "                                                         \r"
     ]
    },
    {
     "name": "stdout",
     "output_type": "stream",
     "text": [
      "[Fold C] Epoch 8/30 train_f1=0.9734 val_f1=0.9099\n"
     ]
    },
    {
     "name": "stderr",
     "output_type": "stream",
     "text": [
      "                                                         \r"
     ]
    },
    {
     "name": "stdout",
     "output_type": "stream",
     "text": [
      "[Fold C] Epoch 9/30 train_f1=0.9834 val_f1=0.9398\n"
     ]
    },
    {
     "name": "stderr",
     "output_type": "stream",
     "text": [
      "                                                         \r"
     ]
    },
    {
     "name": "stdout",
     "output_type": "stream",
     "text": [
      "[Fold C] Epoch 10/30 train_f1=0.9850 val_f1=0.9499\n"
     ]
    },
    {
     "name": "stderr",
     "output_type": "stream",
     "text": [
      "                                                         \r"
     ]
    },
    {
     "name": "stdout",
     "output_type": "stream",
     "text": [
      "[Fold C] Epoch 11/30 train_f1=0.9817 val_f1=0.9298\n"
     ]
    },
    {
     "name": "stderr",
     "output_type": "stream",
     "text": [
      "                                                         \r"
     ]
    },
    {
     "name": "stdout",
     "output_type": "stream",
     "text": [
      "[Fold C] Epoch 12/30 train_f1=0.9900 val_f1=0.9600\n"
     ]
    },
    {
     "name": "stderr",
     "output_type": "stream",
     "text": [
      "                                                         \r"
     ]
    },
    {
     "name": "stdout",
     "output_type": "stream",
     "text": [
      "[Fold C] Epoch 13/30 train_f1=0.9883 val_f1=0.9196\n"
     ]
    },
    {
     "name": "stderr",
     "output_type": "stream",
     "text": [
      "                                                         \r"
     ]
    },
    {
     "name": "stdout",
     "output_type": "stream",
     "text": [
      "[Fold C] Epoch 14/30 train_f1=0.9817 val_f1=0.8881\n"
     ]
    },
    {
     "name": "stderr",
     "output_type": "stream",
     "text": [
      "                                                         \r"
     ]
    },
    {
     "name": "stdout",
     "output_type": "stream",
     "text": [
      "[Fold C] Epoch 15/30 train_f1=0.9800 val_f1=0.9147\n"
     ]
    },
    {
     "name": "stderr",
     "output_type": "stream",
     "text": [
      "                                                         \r"
     ]
    },
    {
     "name": "stdout",
     "output_type": "stream",
     "text": [
      "[Fold C] Epoch 16/30 train_f1=0.9867 val_f1=0.9500\n"
     ]
    },
    {
     "name": "stderr",
     "output_type": "stream",
     "text": [
      "                                                         \r"
     ]
    },
    {
     "name": "stdout",
     "output_type": "stream",
     "text": [
      "[Fold C] Epoch 17/30 train_f1=0.9917 val_f1=0.9298\n"
     ]
    },
    {
     "name": "stderr",
     "output_type": "stream",
     "text": [
      "                                                         \r"
     ]
    },
    {
     "name": "stdout",
     "output_type": "stream",
     "text": [
      "[Fold C] Epoch 18/30 train_f1=0.9967 val_f1=0.9398\n"
     ]
    },
    {
     "name": "stderr",
     "output_type": "stream",
     "text": [
      "                                                         \r"
     ]
    },
    {
     "name": "stdout",
     "output_type": "stream",
     "text": [
      "[Fold C] Epoch 19/30 train_f1=0.9933 val_f1=0.9601\n"
     ]
    },
    {
     "name": "stderr",
     "output_type": "stream",
     "text": [
      "                                                         \r"
     ]
    },
    {
     "name": "stdout",
     "output_type": "stream",
     "text": [
      "[Fold C] Epoch 20/30 train_f1=0.9933 val_f1=0.9500\n"
     ]
    },
    {
     "name": "stderr",
     "output_type": "stream",
     "text": [
      "                                                         \r"
     ]
    },
    {
     "name": "stdout",
     "output_type": "stream",
     "text": [
      "[Fold C] Epoch 21/30 train_f1=1.0000 val_f1=0.9501\n"
     ]
    },
    {
     "name": "stderr",
     "output_type": "stream",
     "text": [
      "                                                         \r"
     ]
    },
    {
     "name": "stdout",
     "output_type": "stream",
     "text": [
      "[Fold C] Epoch 22/30 train_f1=0.9983 val_f1=0.9449\n"
     ]
    },
    {
     "name": "stderr",
     "output_type": "stream",
     "text": [
      "                                                         \r"
     ]
    },
    {
     "name": "stdout",
     "output_type": "stream",
     "text": [
      "[Fold C] Epoch 23/30 train_f1=0.9967 val_f1=0.9248\n"
     ]
    },
    {
     "name": "stderr",
     "output_type": "stream",
     "text": [
      "                                                         \r"
     ]
    },
    {
     "name": "stdout",
     "output_type": "stream",
     "text": [
      "[Fold C] Epoch 24/30 train_f1=0.9983 val_f1=0.9198\n"
     ]
    },
    {
     "name": "stderr",
     "output_type": "stream",
     "text": [
      "                                                         \r"
     ]
    },
    {
     "name": "stdout",
     "output_type": "stream",
     "text": [
      "[Fold C] Epoch 25/30 train_f1=1.0000 val_f1=0.9399\n"
     ]
    },
    {
     "name": "stderr",
     "output_type": "stream",
     "text": [
      "                                                         \r"
     ]
    },
    {
     "name": "stdout",
     "output_type": "stream",
     "text": [
      "[Fold C] Epoch 26/30 train_f1=1.0000 val_f1=0.9348\n"
     ]
    },
    {
     "name": "stderr",
     "output_type": "stream",
     "text": [
      "                                                         \r"
     ]
    },
    {
     "name": "stdout",
     "output_type": "stream",
     "text": [
      "[Fold C] Epoch 27/30 train_f1=1.0000 val_f1=0.9399\n"
     ]
    },
    {
     "name": "stderr",
     "output_type": "stream",
     "text": [
      "                                                         \r"
     ]
    },
    {
     "name": "stdout",
     "output_type": "stream",
     "text": [
      "[Fold C] Epoch 28/30 train_f1=1.0000 val_f1=0.9400\n"
     ]
    },
    {
     "name": "stderr",
     "output_type": "stream",
     "text": [
      "                                                         \r"
     ]
    },
    {
     "name": "stdout",
     "output_type": "stream",
     "text": [
      "[Fold C] Epoch 29/30 train_f1=1.0000 val_f1=0.9398\n"
     ]
    },
    {
     "name": "stderr",
     "output_type": "stream",
     "text": [
      "                                                         \r"
     ]
    },
    {
     "name": "stdout",
     "output_type": "stream",
     "text": [
      "[Fold C] Epoch 30/30 train_f1=1.0000 val_f1=0.9248\n",
      "Confusion matrix for fold C:\n",
      "[[50  0  0]\n",
      " [ 0 50  0]\n",
      " [ 5 10 85]]\n",
      "Classification report:\n",
      "               precision    recall  f1-score   support\n",
      "\n",
      "           0       0.91      1.00      0.95        50\n",
      "           1       0.83      1.00      0.91        50\n",
      "           2       1.00      0.85      0.92       100\n",
      "\n",
      "    accuracy                           0.93       200\n",
      "   macro avg       0.91      0.95      0.93       200\n",
      "weighted avg       0.94      0.93      0.92       200\n",
      "\n",
      "\n",
      "=== CV Fold: train on ['A', 'B', 'C'], validate on D ===\n",
      "[Info] Loaded 600 examples from folds ['A', 'B', 'C'].\n",
      "[Info] Loaded 200 examples from folds ['D'].\n"
     ]
    },
    {
     "name": "stderr",
     "output_type": "stream",
     "text": [
      "                                                         \r"
     ]
    },
    {
     "name": "stdout",
     "output_type": "stream",
     "text": [
      "[Fold D] Epoch 1/30 train_f1=0.3557 val_f1=0.3333\n"
     ]
    },
    {
     "name": "stderr",
     "output_type": "stream",
     "text": [
      "                                                         \r"
     ]
    },
    {
     "name": "stdout",
     "output_type": "stream",
     "text": [
      "[Fold D] Epoch 2/30 train_f1=0.5598 val_f1=0.5579\n"
     ]
    },
    {
     "name": "stderr",
     "output_type": "stream",
     "text": [
      "                                                         \r"
     ]
    },
    {
     "name": "stdout",
     "output_type": "stream",
     "text": [
      "[Fold D] Epoch 3/30 train_f1=0.7125 val_f1=0.5631\n"
     ]
    },
    {
     "name": "stderr",
     "output_type": "stream",
     "text": [
      "                                                         \r"
     ]
    },
    {
     "name": "stdout",
     "output_type": "stream",
     "text": [
      "[Fold D] Epoch 4/30 train_f1=0.8710 val_f1=0.8227\n"
     ]
    },
    {
     "name": "stderr",
     "output_type": "stream",
     "text": [
      "                                                         \r"
     ]
    },
    {
     "name": "stdout",
     "output_type": "stream",
     "text": [
      "[Fold D] Epoch 5/30 train_f1=0.9335 val_f1=0.9258\n"
     ]
    },
    {
     "name": "stderr",
     "output_type": "stream",
     "text": [
      "                                                         \r"
     ]
    },
    {
     "name": "stdout",
     "output_type": "stream",
     "text": [
      "[Fold D] Epoch 6/30 train_f1=0.9681 val_f1=0.8726\n"
     ]
    },
    {
     "name": "stderr",
     "output_type": "stream",
     "text": [
      "                                                         \r"
     ]
    },
    {
     "name": "stdout",
     "output_type": "stream",
     "text": [
      "[Fold D] Epoch 7/30 train_f1=0.9850 val_f1=0.9461\n"
     ]
    },
    {
     "name": "stderr",
     "output_type": "stream",
     "text": [
      "                                                         \r"
     ]
    },
    {
     "name": "stdout",
     "output_type": "stream",
     "text": [
      "[Fold D] Epoch 8/30 train_f1=0.9917 val_f1=0.9009\n"
     ]
    },
    {
     "name": "stderr",
     "output_type": "stream",
     "text": [
      "                                                         \r"
     ]
    },
    {
     "name": "stdout",
     "output_type": "stream",
     "text": [
      "[Fold D] Epoch 9/30 train_f1=0.9883 val_f1=0.8900\n"
     ]
    },
    {
     "name": "stderr",
     "output_type": "stream",
     "text": [
      "                                                         \r"
     ]
    },
    {
     "name": "stdout",
     "output_type": "stream",
     "text": [
      "[Fold D] Epoch 10/30 train_f1=0.9967 val_f1=0.9011\n"
     ]
    },
    {
     "name": "stderr",
     "output_type": "stream",
     "text": [
      "                                                         \r"
     ]
    },
    {
     "name": "stdout",
     "output_type": "stream",
     "text": [
      "[Fold D] Epoch 11/30 train_f1=0.9866 val_f1=0.9078\n"
     ]
    },
    {
     "name": "stderr",
     "output_type": "stream",
     "text": [
      "                                                         \r"
     ]
    },
    {
     "name": "stdout",
     "output_type": "stream",
     "text": [
      "[Fold D] Epoch 12/30 train_f1=0.9900 val_f1=0.8967\n"
     ]
    },
    {
     "name": "stderr",
     "output_type": "stream",
     "text": [
      "                                                         \r"
     ]
    },
    {
     "name": "stdout",
     "output_type": "stream",
     "text": [
      "[Fold D] Epoch 13/30 train_f1=0.9900 val_f1=0.9118\n"
     ]
    },
    {
     "name": "stderr",
     "output_type": "stream",
     "text": [
      "                                                         \r"
     ]
    },
    {
     "name": "stdout",
     "output_type": "stream",
     "text": [
      "[Fold D] Epoch 14/30 train_f1=0.9983 val_f1=0.9070\n"
     ]
    },
    {
     "name": "stderr",
     "output_type": "stream",
     "text": [
      "                                                         \r"
     ]
    },
    {
     "name": "stdout",
     "output_type": "stream",
     "text": [
      "[Fold D] Epoch 15/30 train_f1=0.9950 val_f1=0.9201\n"
     ]
    },
    {
     "name": "stderr",
     "output_type": "stream",
     "text": [
      "                                                         \r"
     ]
    },
    {
     "name": "stdout",
     "output_type": "stream",
     "text": [
      "[Fold D] Epoch 16/30 train_f1=0.9950 val_f1=0.9022\n"
     ]
    },
    {
     "name": "stderr",
     "output_type": "stream",
     "text": [
      "                                                         \r"
     ]
    },
    {
     "name": "stdout",
     "output_type": "stream",
     "text": [
      "[Fold D] Epoch 17/30 train_f1=0.9983 val_f1=0.9352\n"
     ]
    },
    {
     "name": "stderr",
     "output_type": "stream",
     "text": [
      "                                                         \r"
     ]
    },
    {
     "name": "stdout",
     "output_type": "stream",
     "text": [
      "[Fold D] Epoch 18/30 train_f1=0.9983 val_f1=0.9215\n"
     ]
    },
    {
     "name": "stderr",
     "output_type": "stream",
     "text": [
      "                                                         \r"
     ]
    },
    {
     "name": "stdout",
     "output_type": "stream",
     "text": [
      "[Fold D] Epoch 19/30 train_f1=0.9983 val_f1=0.9356\n"
     ]
    },
    {
     "name": "stderr",
     "output_type": "stream",
     "text": [
      "                                                         \r"
     ]
    },
    {
     "name": "stdout",
     "output_type": "stream",
     "text": [
      "[Fold D] Epoch 20/30 train_f1=0.9983 val_f1=0.9167\n"
     ]
    },
    {
     "name": "stderr",
     "output_type": "stream",
     "text": [
      "                                                         \r"
     ]
    },
    {
     "name": "stdout",
     "output_type": "stream",
     "text": [
      "[Fold D] Epoch 21/30 train_f1=0.9983 val_f1=0.9003\n"
     ]
    },
    {
     "name": "stderr",
     "output_type": "stream",
     "text": [
      "                                                         \r"
     ]
    },
    {
     "name": "stdout",
     "output_type": "stream",
     "text": [
      "[Fold D] Epoch 22/30 train_f1=0.9967 val_f1=0.8928\n"
     ]
    },
    {
     "name": "stderr",
     "output_type": "stream",
     "text": [
      "                                                         \r"
     ]
    },
    {
     "name": "stdout",
     "output_type": "stream",
     "text": [
      "[Fold D] Epoch 23/30 train_f1=1.0000 val_f1=0.8910\n"
     ]
    },
    {
     "name": "stderr",
     "output_type": "stream",
     "text": [
      "                                                         \r"
     ]
    },
    {
     "name": "stdout",
     "output_type": "stream",
     "text": [
      "[Fold D] Epoch 24/30 train_f1=1.0000 val_f1=0.8819\n"
     ]
    },
    {
     "name": "stderr",
     "output_type": "stream",
     "text": [
      "                                                         \r"
     ]
    },
    {
     "name": "stdout",
     "output_type": "stream",
     "text": [
      "[Fold D] Epoch 25/30 train_f1=1.0000 val_f1=0.9062\n"
     ]
    },
    {
     "name": "stderr",
     "output_type": "stream",
     "text": [
      "                                                         \r"
     ]
    },
    {
     "name": "stdout",
     "output_type": "stream",
     "text": [
      "[Fold D] Epoch 26/30 train_f1=1.0000 val_f1=0.9062\n"
     ]
    },
    {
     "name": "stderr",
     "output_type": "stream",
     "text": [
      "                                                         \r"
     ]
    },
    {
     "name": "stdout",
     "output_type": "stream",
     "text": [
      "[Fold D] Epoch 27/30 train_f1=1.0000 val_f1=0.9103\n"
     ]
    },
    {
     "name": "stderr",
     "output_type": "stream",
     "text": [
      "                                                         \r"
     ]
    },
    {
     "name": "stdout",
     "output_type": "stream",
     "text": [
      "[Fold D] Epoch 28/30 train_f1=1.0000 val_f1=0.9103\n"
     ]
    },
    {
     "name": "stderr",
     "output_type": "stream",
     "text": [
      "                                                         \r"
     ]
    },
    {
     "name": "stdout",
     "output_type": "stream",
     "text": [
      "[Fold D] Epoch 29/30 train_f1=1.0000 val_f1=0.9103\n"
     ]
    },
    {
     "name": "stderr",
     "output_type": "stream",
     "text": [
      "                                                         \r"
     ]
    },
    {
     "name": "stdout",
     "output_type": "stream",
     "text": [
      "[Fold D] Epoch 30/30 train_f1=1.0000 val_f1=0.9202\n",
      "Confusion matrix for fold D:\n",
      "[[47  3  0]\n",
      " [ 0 42  8]\n",
      " [ 0  5 95]]\n",
      "Classification report:\n",
      "               precision    recall  f1-score   support\n",
      "\n",
      "           0       1.00      0.94      0.97        50\n",
      "           1       0.84      0.84      0.84        50\n",
      "           2       0.92      0.95      0.94       100\n",
      "\n",
      "    accuracy                           0.92       200\n",
      "   macro avg       0.92      0.91      0.92       200\n",
      "weighted avg       0.92      0.92      0.92       200\n",
      "\n",
      "\n",
      "Cross-validation F1 scores: [0.9899474641341685, 0.9851042334039721, 0.9601262979478054, 0.9461159012919651]\n",
      "Mean CV F1: 0.9703\n"
     ]
    }
   ],
   "source": [
    "# === Dependencies ===\n",
    "import os\n",
    "import random\n",
    "import numpy as np\n",
    "import librosa\n",
    "import xml.etree.ElementTree as ET\n",
    "from glob import glob\n",
    "from tqdm import tqdm\n",
    "import torch\n",
    "import torch.nn as nn\n",
    "from torch.utils.data import Dataset, DataLoader\n",
    "from sklearn.metrics import precision_recall_fscore_support, confusion_matrix, classification_report\n",
    "\n",
    "# === Config / hyperparams ===\n",
    "DEVICE = torch.device(\"cuda\" if torch.cuda.is_available() else \"cpu\")\n",
    "SR = 32000\n",
    "WINDOW_SECONDS = 1.0\n",
    "WINDOW_SAMPLES = int(SR * WINDOW_SECONDS)\n",
    "N_MELS = 64\n",
    "FFT_SIZE = 1024\n",
    "HOP_LENGTH = 512\n",
    "BATCH_SIZE = 32\n",
    "LEARNING_RATE = 1e-3\n",
    "NUM_EPOCHS = 30\n",
    "SEED = 42\n",
    "FOLDS = [\"A\", \"B\", \"C\", \"D\"]\n",
    "LABEL_MAP = {2: 0, 3: 1}  # 0=skid,1=crash, background=2\n",
    "\n",
    "torch.manual_seed(SEED)\n",
    "np.random.seed(SEED)\n",
    "random.seed(SEED)\n",
    "\n",
    "# === Utility functions ===\n",
    "def load_audio(path, sr=SR):\n",
    "    y, _ = librosa.load(path, sr=sr)\n",
    "    return y\n",
    "\n",
    "def pad_or_trim(y, target_len=WINDOW_SAMPLES):\n",
    "    if len(y) < target_len:\n",
    "        pad_len = target_len - len(y)\n",
    "        y = np.pad(y, (0, pad_len))\n",
    "    elif len(y) > target_len:\n",
    "        y = y[:target_len]\n",
    "    return y\n",
    "\n",
    "def extract_log_mel(y, sr=SR, n_mels=N_MELS, n_fft=FFT_SIZE, hop_length=HOP_LENGTH):\n",
    "    S = librosa.feature.melspectrogram(\n",
    "        y=y, sr=sr, n_fft=n_fft, hop_length=hop_length,\n",
    "        n_mels=n_mels, fmin=50, fmax=14000\n",
    "    )\n",
    "    S_db = librosa.power_to_db(S, ref=np.max)\n",
    "    return S_db\n",
    "\n",
    "\n",
    "# === Dataset class ===\n",
    "class MIVIARoadAudioDataset(Dataset):\n",
    "    def __init__(self, root_dir, folds, window_sec=WINDOW_SECONDS, sr=SR, augment=False, neg_per_pos=1):\n",
    "        self.sr = sr\n",
    "        self.window_samples = int(window_sec * sr)\n",
    "        self.augment = augment\n",
    "        self.examples = []  # (audio_path, center_sample, label)\n",
    "        self._prepare(root_dir, folds, neg_per_pos)\n",
    "\n",
    "    def _parse_xml(self, xml_path):\n",
    "        try:\n",
    "            tree = ET.parse(xml_path)\n",
    "            root = tree.getroot()\n",
    "            events = []\n",
    "            ev_root = root.find(\"events\")\n",
    "            if ev_root is None:\n",
    "                return events\n",
    "            for item in ev_root.findall(\"item\"):\n",
    "                try:\n",
    "                    start = float(item.find(\"STARTSECOND\").text)\n",
    "                    end = float(item.find(\"ENDSECOND\").text)\n",
    "                    cid = int(float(item.find(\"CLASS_ID\").text))\n",
    "                    if cid not in LABEL_MAP:\n",
    "                        continue\n",
    "                    events.append({\"start\": start, \"end\": end, \"class_id\": cid})\n",
    "                except:\n",
    "                    continue\n",
    "            return events\n",
    "        except Exception as e:\n",
    "            print(f\"[XML parse error] {xml_path}: {e}\")\n",
    "            return []\n",
    "\n",
    "    def _compute_non_event_intervals(self, events, total_dur):\n",
    "        sorted_ev = sorted(events, key=lambda x: x[\"start\"])\n",
    "        gaps = []\n",
    "        curr = 0.0\n",
    "        for ev in sorted_ev:\n",
    "            if ev[\"start\"] > curr:\n",
    "                gaps.append((curr, ev[\"start\"]))\n",
    "            curr = max(curr, ev[\"end\"])\n",
    "        if curr < total_dur:\n",
    "            gaps.append((curr, total_dur))\n",
    "        return gaps\n",
    "\n",
    "    def _sample_negative_center(self, gaps):\n",
    "        lengths = [e - s for s, e in gaps]\n",
    "        if not lengths:\n",
    "            return 0.0\n",
    "        probs = [l / sum(lengths) for l in lengths]\n",
    "        idx = np.random.choice(len(gaps), p=probs)\n",
    "        start, end = gaps[idx]\n",
    "        min_c = start + WINDOW_SECONDS / 2.0\n",
    "        max_c = end - WINDOW_SECONDS / 2.0\n",
    "        if min_c >= max_c:\n",
    "            return (start + end) / 2.0\n",
    "        return random.uniform(min_c, max_c)\n",
    "\n",
    "    def _prepare(self, root_dir, folds, neg_per_pos):\n",
    "        for fold in folds:\n",
    "            fold_dir = os.path.join(root_dir, fold)\n",
    "            v2_dir = os.path.join(fold_dir, \"v2\")\n",
    "            if not os.path.isdir(fold_dir) or not os.path.isdir(v2_dir):\n",
    "                print(f\"[Warning] Missing fold or v2: {fold_dir} / {v2_dir}\")\n",
    "                continue\n",
    "            xml_files = glob(os.path.join(fold_dir, \"*.xml\"))\n",
    "            for xml_path in xml_files:\n",
    "                base = os.path.splitext(os.path.basename(xml_path))[0]\n",
    "                wav_candidates = glob(os.path.join(v2_dir, f\"{base}*.wav\"))\n",
    "                if not wav_candidates:\n",
    "                    print(f\"[Warning] No WAV for XML {base} in {v2_dir}\")\n",
    "                    continue\n",
    "                audio_path = wav_candidates[0]\n",
    "                y = load_audio(audio_path, sr=self.sr)\n",
    "                audio_dur = len(y) / self.sr\n",
    "                events = self._parse_xml(xml_path)\n",
    "                positive_centers = []\n",
    "                for ev in events:\n",
    "                    center = (ev[\"start\"] + ev[\"end\"]) / 2.0\n",
    "                    center_sample = int(center * self.sr)\n",
    "                    label = LABEL_MAP[ev[\"class_id\"]]\n",
    "                    self.examples.append((audio_path, center_sample, label))\n",
    "                    positive_centers.append((max(0, ev[\"start\"]), min(audio_dur, ev[\"end\"])))\n",
    "                gaps = self._compute_non_event_intervals(events, audio_dur)\n",
    "                for _ in range(len(positive_centers) * neg_per_pos):\n",
    "                    center_time = self._sample_negative_center(gaps)\n",
    "                    center_sample = int(center_time * self.sr)\n",
    "                    self.examples.append((audio_path, center_sample, 2))  # background label\n",
    "\n",
    "        if len(self.examples) == 0:\n",
    "            print(\"[Error] No examples loaded. Check dataset path/structure.\")\n",
    "        else:\n",
    "            print(f\"[Info] Loaded {len(self.examples)} examples from folds {folds}.\")\n",
    "\n",
    "    def __len__(self):\n",
    "        return len(self.examples)\n",
    "\n",
    "    def __getitem__(self, idx):\n",
    "        audio_path, center_sample, label = self.examples[idx]\n",
    "        y = load_audio(audio_path, sr=self.sr)\n",
    "        start = max(0, center_sample - self.window_samples // 2)\n",
    "        end = start + self.window_samples\n",
    "        if end > len(y):\n",
    "            end = len(y)\n",
    "            start = end - self.window_samples\n",
    "            if start < 0:\n",
    "                start = 0\n",
    "        segment = y[start:end]\n",
    "        segment = pad_or_trim(segment, self.window_samples)\n",
    "        feat = extract_log_mel(segment, sr=self.sr)  # (n_mels, time)\n",
    "        if self.augment and random.random() < 0.3:\n",
    "            noise = np.random.randn(*segment.shape) * 0.005\n",
    "            segment = segment + noise\n",
    "            feat = extract_log_mel(segment, sr=self.sr)\n",
    "        feat_tensor = torch.tensor(feat, dtype=torch.float32).unsqueeze(0)  # (1, n_mels, time)\n",
    "        target = torch.tensor(label, dtype=torch.long)\n",
    "        return feat_tensor, target\n",
    "\n",
    "# === RCNN Model ===\n",
    "class RCNNClassifier(nn.Module):\n",
    "    def __init__(self, n_mels=64, n_classes=3, hidden_size=128):\n",
    "        super().__init__()\n",
    "        self.cnn = nn.Sequential(\n",
    "            nn.Conv2d(1, 16, kernel_size=3, padding=1), nn.ReLU(),\n",
    "            nn.MaxPool2d((2,2)),\n",
    "            nn.Conv2d(16, 32, kernel_size=3, padding=1), nn.ReLU(),\n",
    "            nn.MaxPool2d((2,2)),\n",
    "        )\n",
    "        self.lstm = nn.LSTM(input_size=32 * (n_mels // 4), hidden_size=hidden_size, batch_first=True)\n",
    "        self.classifier = nn.Sequential(\n",
    "            nn.Linear(hidden_size, 64), nn.ReLU(),\n",
    "            nn.Linear(64, n_classes)\n",
    "        )\n",
    "\n",
    "    def forward(self, x):  # x: (B,1,n_mels,time)\n",
    "        x = self.cnn(x)  # (B, C, M', T')\n",
    "        B, C, M, T = x.size()\n",
    "        x = x.permute(0, 3, 1, 2).contiguous()  # (B, T, C, M)\n",
    "        x = x.view(B, T, C * M)  # (B, T, feat)\n",
    "        x, _ = self.lstm(x)  # (B, T, hidden)\n",
    "        x = x[:, -1, :]  # last timestep\n",
    "        out = self.classifier(x)  # (B, n_classes)\n",
    "        return out\n",
    "\n",
    "# === Training / evaluation helpers ===\n",
    "def train_one_epoch(model, loader, criterion, optimizer):\n",
    "    model.train()\n",
    "    total_loss = 0.0\n",
    "    all_preds, all_targets = [], []\n",
    "    for X, y in tqdm(loader, desc=\"Training\", leave=False):\n",
    "        X = X.to(DEVICE)\n",
    "        y = y.to(DEVICE)\n",
    "        optimizer.zero_grad()\n",
    "        logits = model(X)\n",
    "        loss = criterion(logits, y)\n",
    "        loss.backward()\n",
    "        optimizer.step()\n",
    "        total_loss += loss.item() * X.size(0)\n",
    "        preds = torch.argmax(logits, dim=1).cpu().numpy()\n",
    "        all_preds.extend(preds)\n",
    "        all_targets.extend(y.cpu().numpy())\n",
    "    avg_loss = total_loss / len(loader.dataset)\n",
    "    precision, recall, f1, _ = precision_recall_fscore_support(all_targets, all_preds, average=\"weighted\", zero_division=0)\n",
    "    return avg_loss, precision, recall, f1\n",
    "\n",
    "def evaluate(model, loader, criterion):\n",
    "    model.eval()\n",
    "    total_loss = 0.0\n",
    "    all_preds, all_targets = [], []\n",
    "    with torch.no_grad():\n",
    "        for X, y in tqdm(loader, desc=\"Evaluating\", leave=False):\n",
    "            X = X.to(DEVICE)\n",
    "            y = y.to(DEVICE)\n",
    "            logits = model(X)\n",
    "            loss = criterion(logits, y)\n",
    "            total_loss += loss.item() * X.size(0)\n",
    "            preds = torch.argmax(logits, dim=1).cpu().numpy()\n",
    "            all_preds.extend(preds)\n",
    "            all_targets.extend(y.cpu().numpy())\n",
    "    avg_loss = total_loss / len(loader.dataset)\n",
    "    precision, recall, f1, _ = precision_recall_fscore_support(all_targets, all_preds, average=\"weighted\", zero_division=0)\n",
    "    cm = confusion_matrix(all_targets, all_preds)\n",
    "    return avg_loss, precision, recall, f1, cm, all_targets, all_preds\n",
    "\n",
    "# === Cross-validation runner ===\n",
    "def run_cross_validation(root_dir):\n",
    "    fold_scores = []\n",
    "    for i in range(len(FOLDS)):\n",
    "        val_fold = FOLDS[i]\n",
    "        train_folds = [f for f in FOLDS if f != val_fold]\n",
    "        print(f\"\\n=== CV Fold: train on {train_folds}, validate on {val_fold} ===\")\n",
    "        train_ds = MIVIARoadAudioDataset(root_dir, train_folds, augment=True)\n",
    "        val_ds = MIVIARoadAudioDataset(root_dir, [val_fold], augment=False)\n",
    "        if len(train_ds) == 0 or len(val_ds) == 0:\n",
    "            print(\"[Warning] empty split, skipping fold.\")\n",
    "            continue\n",
    "        train_loader = DataLoader(train_ds, batch_size=BATCH_SIZE, shuffle=True, num_workers=0)\n",
    "        val_loader = DataLoader(val_ds, batch_size=BATCH_SIZE, shuffle=False, num_workers=0)\n",
    "\n",
    "        model = RCNNClassifier(n_mels=N_MELS, n_classes=3).to(DEVICE)\n",
    "        criterion = nn.CrossEntropyLoss()\n",
    "        optimizer = torch.optim.Adam(model.parameters(), lr=LEARNING_RATE)\n",
    "\n",
    "        best_f1 = 0.0\n",
    "        for epoch in range(NUM_EPOCHS):\n",
    "            tr_loss, tr_p, tr_r, tr_f1 = train_one_epoch(model, train_loader, criterion, optimizer)\n",
    "            val_loss, val_p, val_r, val_f1, cm, tgts, preds = evaluate(model, val_loader, criterion)\n",
    "            print(f\"[Fold {val_fold}] Epoch {epoch+1}/{NUM_EPOCHS} train_f1={tr_f1:.4f} val_f1={val_f1:.4f}\")\n",
    "            if val_f1 > best_f1:\n",
    "                best_f1 = val_f1\n",
    "                torch.save(model.state_dict(), f\"best_rcnn_fold_{val_fold}.pt\")\n",
    "        fold_scores.append(best_f1)\n",
    "        # report per-fold confusion matrix summary\n",
    "        print(f\"Confusion matrix for fold {val_fold}:\\n{cm}\")\n",
    "        print(\"Classification report:\\n\", classification_report(tgts, preds, zero_division=0))\n",
    "    if fold_scores:\n",
    "        print(f\"\\nCross-validation F1 scores: {fold_scores}\")\n",
    "        print(f\"Mean CV F1: {np.mean(fold_scores):.4f}\")\n",
    "\n",
    "# === Entry point for Kaggle ===\n",
    "# Adjust this path if your dataset root differs\n",
    "dataset_root = \"/kaggle/input/mivia-dataset/MIVIA_ROAD_DB1/audio\"  # or \"/kaggle/input/mivia-dataset\" if A/B/C/D are directly there\n",
    "run_cross_validation(dataset_root)"
   ]
  },
  {
   "cell_type": "code",
   "execution_count": null,
   "id": "f5d0d660",
   "metadata": {
    "papermill": {
     "duration": 0.195541,
     "end_time": "2025-08-06T07:30:56.181396",
     "exception": false,
     "start_time": "2025-08-06T07:30:55.985855",
     "status": "completed"
    },
    "tags": []
   },
   "outputs": [],
   "source": []
  }
 ],
 "metadata": {
  "kaggle": {
   "accelerator": "nvidiaTeslaT4",
   "dataSources": [
    {
     "datasetId": 8016629,
     "sourceId": 12685228,
     "sourceType": "datasetVersion"
    }
   ],
   "dockerImageVersionId": 31090,
   "isGpuEnabled": true,
   "isInternetEnabled": true,
   "language": "python",
   "sourceType": "notebook"
  },
  "kernelspec": {
   "display_name": "Python 3",
   "language": "python",
   "name": "python3"
  },
  "language_info": {
   "codemirror_mode": {
    "name": "ipython",
    "version": 3
   },
   "file_extension": ".py",
   "mimetype": "text/x-python",
   "name": "python",
   "nbconvert_exporter": "python",
   "pygments_lexer": "ipython3",
   "version": "3.11.13"
  },
  "papermill": {
   "default_parameters": {},
   "duration": 2357.213731,
   "end_time": "2025-08-06T07:30:58.680720",
   "environment_variables": {},
   "exception": null,
   "input_path": "__notebook__.ipynb",
   "output_path": "__notebook__.ipynb",
   "parameters": {},
   "start_time": "2025-08-06T06:51:41.466989",
   "version": "2.6.0"
  }
 },
 "nbformat": 4,
 "nbformat_minor": 5
}
